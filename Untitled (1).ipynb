{
 "cells": [
  {
   "cell_type": "markdown",
   "id": "42e29242-4de7-4282-afa0-820827766d8b",
   "metadata": {},
   "source": [
    "TO CREATE A COUNTDOWN TIMER\n"
   ]
  },
  {
   "cell_type": "code",
   "execution_count": 4,
   "id": "5acc2c62-af38-4eda-920e-7469ce96f977",
   "metadata": {},
   "outputs": [
    {
     "name": "stdin",
     "output_type": "stream",
     "text": [
      "Set Your Timer in Sec:  10\n"
     ]
    },
    {
     "name": "stdout",
     "output_type": "stream",
     "text": [
      "00:10\n",
      "stop\n",
      "00:09\n",
      "stop\n",
      "00:08\n",
      "stop\n",
      "00:07\n",
      "stop\n",
      "00:06\n",
      "stop\n",
      "00:05\n",
      "stop\n",
      "00:04\n",
      "stop\n",
      "00:03\n",
      "stop\n",
      "00:02\n",
      "stop\n",
      "00:01\n",
      "stop\n"
     ]
    }
   ],
   "source": [
    "import time\n",
    "\n",
    "def countdown(time_sec):\n",
    "    while time_sec:\n",
    "        mins, secs = divmod(time_sec, 60)\n",
    "        timeformat='{:02d}:{:02d}'.format(mins, secs)\n",
    "        print (timeformat, end='\\n') \n",
    "        time.sleep(1)\n",
    "        time_sec -= 1\n",
    "\n",
    "        print(\"stop\")\n",
    "num=int(input(\"Set Your Timer in Sec: \"))\n",
    "\n",
    "countdown (num)"
   ]
  },
  {
   "cell_type": "code",
   "execution_count": null,
   "id": "8b4b25b7-609c-4946-afc3-e260fe72f303",
   "metadata": {},
   "outputs": [],
   "source": []
  }
 ],
 "metadata": {
  "kernelspec": {
   "display_name": "Python 3 (ipykernel)",
   "language": "python",
   "name": "python3"
  },
  "language_info": {
   "codemirror_mode": {
    "name": "ipython",
    "version": 3
   },
   "file_extension": ".py",
   "mimetype": "text/x-python",
   "name": "python",
   "nbconvert_exporter": "python",
   "pygments_lexer": "ipython3",
   "version": "3.10.8"
  }
 },
 "nbformat": 4,
 "nbformat_minor": 5
}
